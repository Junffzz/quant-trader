{
 "cells": [
  {
   "cell_type": "code",
   "execution_count": 5,
   "outputs": [],
   "source": [
    "import pandas as pd\n",
    "\n",
    "import app.facade as facade\n",
    "import app.strategy as strategy\n",
    "from app.market.stock_market import StockMarket\n"
   ],
   "metadata": {
    "collapsed": false
   }
  },
  {
   "cell_type": "code",
   "execution_count": 6,
   "outputs": [],
   "source": [
    "stock_service = StockMarket()\n",
    "\n",
    "tudata = facade.TushareData(token='7ba597f7da0b37aa7303298c65dcb17d72ee50ccdd345563b9ded06e',\n",
    "                            my_path='/Users/ZhaoJunfeng/workspace/python/quant-trader/cmd/tools/sql_data/',\n",
    "                            db_name='stock_data.db')"
   ],
   "metadata": {
    "collapsed": false
   }
  },
  {
   "cell_type": "code",
   "execution_count": 7,
   "outputs": [],
   "source": [
    "cols = ['close', 'open', 'high', 'low']\n",
    "# 获取沪深全市场A股代码\n",
    "codes = stock_service.get_codelist()\n",
    "codes = codes[:1000]\n",
    "\n",
    "start_date='20200101'\n",
    "end_date='20220801'"
   ],
   "metadata": {
    "collapsed": false
   }
  },
  {
   "cell_type": "markdown",
   "source": [
    "## 策略一：MM趋势+RPS+资金流选股池+每日指标"
   ],
   "metadata": {
    "collapsed": false
   }
  },
  {
   "cell_type": "code",
   "execution_count": 10,
   "outputs": [
    {
     "name": "stderr",
     "output_type": "stream",
     "text": [
      "100%|██████████| 254/254 [00:35<00:00,  7.15it/s]\n"
     ]
    },
    {
     "name": "stdout",
     "output_type": "stream",
     "text": [
      "最近1、3、5、10、20、60日主力资金累计净流入均大于0个股数量：14\n"
     ]
    },
    {
     "data": {
      "text/plain": "Empty DataFrame\nColumns: [收盘价, rps_120, trade_date, 主力净流入, 换手率, 量比, 市盈率, 市净率, 市销率, 股息率, 流通市值]\nIndex: []",
      "text/html": "<div>\n<style scoped>\n    .dataframe tbody tr th:only-of-type {\n        vertical-align: middle;\n    }\n\n    .dataframe tbody tr th {\n        vertical-align: top;\n    }\n\n    .dataframe thead th {\n        text-align: right;\n    }\n</style>\n<table border=\"1\" class=\"dataframe\">\n  <thead>\n    <tr style=\"text-align: right;\">\n      <th></th>\n      <th>收盘价</th>\n      <th>rps_120</th>\n      <th>trade_date</th>\n      <th>主力净流入</th>\n      <th>换手率</th>\n      <th>量比</th>\n      <th>市盈率</th>\n      <th>市净率</th>\n      <th>市销率</th>\n      <th>股息率</th>\n      <th>流通市值</th>\n    </tr>\n    <tr>\n      <th>ts_code</th>\n      <th></th>\n      <th></th>\n      <th></th>\n      <th></th>\n      <th></th>\n      <th></th>\n      <th></th>\n      <th></th>\n      <th></th>\n      <th></th>\n      <th></th>\n    </tr>\n  </thead>\n  <tbody>\n  </tbody>\n</table>\n</div>"
     },
     "execution_count": 9,
     "metadata": {},
     "output_type": "execute_result"
    },
    {
     "ename": "KeyboardInterrupt",
     "evalue": "",
     "output_type": "error",
     "traceback": [
      "\u001B[0;31m---------------------------------------------------------------------------\u001B[0m",
      "\u001B[0;31mKeyboardInterrupt\u001B[0m                         Traceback (most recent call last)",
      "\u001B[0;32m/var/folders/bm/2_xkfmwd0_z5lm03zx7cmd4c0000gn/T/ipykernel_36602/1280190578.py\u001B[0m in \u001B[0;36m<module>\u001B[0;34m\u001B[0m\n\u001B[0;32m----> 1\u001B[0;31m \u001B[0mprices\u001B[0m \u001B[0;34m=\u001B[0m \u001B[0mtudata\u001B[0m\u001B[0;34m.\u001B[0m\u001B[0msql_adj_data\u001B[0m\u001B[0;34m(\u001B[0m\u001B[0;34m)\u001B[0m\u001B[0;34m[\u001B[0m\u001B[0;34m'close'\u001B[0m\u001B[0;34m]\u001B[0m\u001B[0;34m.\u001B[0m\u001B[0mdropna\u001B[0m\u001B[0;34m(\u001B[0m\u001B[0maxis\u001B[0m\u001B[0;34m=\u001B[0m\u001B[0;36m1\u001B[0m\u001B[0;34m)\u001B[0m\u001B[0;34m\u001B[0m\u001B[0;34m\u001B[0m\u001B[0m\n\u001B[0m\u001B[1;32m      2\u001B[0m \u001B[0mrps\u001B[0m \u001B[0;34m=\u001B[0m \u001B[0mstrategy\u001B[0m\u001B[0;34m.\u001B[0m\u001B[0mRPS\u001B[0m\u001B[0;34m(\u001B[0m\u001B[0mprices\u001B[0m\u001B[0;34m)\u001B[0m\u001B[0;34m\u001B[0m\u001B[0;34m\u001B[0m\u001B[0m\n\u001B[1;32m      3\u001B[0m \u001B[0mdf_rps\u001B[0m \u001B[0;34m=\u001B[0m \u001B[0mrps\u001B[0m\u001B[0;34m.\u001B[0m\u001B[0mdate_rps\u001B[0m\u001B[0;34m(\u001B[0m\u001B[0;34m)\u001B[0m\u001B[0;34m\u001B[0m\u001B[0;34m\u001B[0m\u001B[0m\n\u001B[1;32m      4\u001B[0m \u001B[0;34m\u001B[0m\u001B[0m\n\u001B[1;32m      5\u001B[0m \u001B[0;31m# MM趋势\u001B[0m\u001B[0;34m\u001B[0m\u001B[0;34m\u001B[0m\u001B[0m\n",
      "\u001B[0;32m~/workspace/python/quant-trader/app/facade/tsdata.py\u001B[0m in \u001B[0;36msql_adj_data\u001B[0;34m(self, n, adj)\u001B[0m\n\u001B[1;32m    248\u001B[0m         \u001B[0mdate\u001B[0m \u001B[0;34m=\u001B[0m \u001B[0;34m(\u001B[0m\u001B[0mnow\u001B[0m \u001B[0;34m-\u001B[0m \u001B[0mtimedelta\u001B[0m\u001B[0;34m(\u001B[0m\u001B[0mn\u001B[0m\u001B[0;34m)\u001B[0m\u001B[0;34m)\u001B[0m\u001B[0;34m.\u001B[0m\u001B[0mstrftime\u001B[0m\u001B[0;34m(\u001B[0m\u001B[0;34m'%Y%m%d'\u001B[0m\u001B[0;34m)\u001B[0m\u001B[0;34m\u001B[0m\u001B[0;34m\u001B[0m\u001B[0m\n\u001B[1;32m    249\u001B[0m         \u001B[0msql\u001B[0m \u001B[0;34m=\u001B[0m \u001B[0;34mf'select * from {self.table_name} where trade_date>{date}'\u001B[0m\u001B[0;34m\u001B[0m\u001B[0;34m\u001B[0m\u001B[0m\n\u001B[0;32m--> 250\u001B[0;31m         \u001B[0mdata\u001B[0m \u001B[0;34m=\u001B[0m \u001B[0mpd\u001B[0m\u001B[0;34m.\u001B[0m\u001B[0mread_sql\u001B[0m\u001B[0;34m(\u001B[0m\u001B[0msql\u001B[0m\u001B[0;34m,\u001B[0m \u001B[0mself\u001B[0m\u001B[0;34m.\u001B[0m\u001B[0mengine\u001B[0m\u001B[0;34m)\u001B[0m\u001B[0;34m\u001B[0m\u001B[0;34m\u001B[0m\u001B[0m\n\u001B[0m\u001B[1;32m    251\u001B[0m         \u001B[0mdata\u001B[0m \u001B[0;34m=\u001B[0m \u001B[0mdata\u001B[0m\u001B[0;34m.\u001B[0m\u001B[0msort_values\u001B[0m\u001B[0;34m(\u001B[0m\u001B[0;34m[\u001B[0m\u001B[0;34m'ts_code'\u001B[0m\u001B[0;34m,\u001B[0m \u001B[0;34m'trade_date'\u001B[0m\u001B[0;34m]\u001B[0m\u001B[0;34m)\u001B[0m\u001B[0;34m\u001B[0m\u001B[0;34m\u001B[0m\u001B[0m\n\u001B[1;32m    252\u001B[0m         \u001B[0mdata\u001B[0m \u001B[0;34m=\u001B[0m \u001B[0mdata\u001B[0m\u001B[0;34m.\u001B[0m\u001B[0mdrop_duplicates\u001B[0m\u001B[0;34m(\u001B[0m\u001B[0;34m)\u001B[0m\u001B[0;34m\u001B[0m\u001B[0;34m\u001B[0m\u001B[0m\n",
      "\u001B[0;32m~/miniconda3/envs/zjfenv/lib/python3.10/site-packages/pandas/io/sql.py\u001B[0m in \u001B[0;36mread_sql\u001B[0;34m(sql, con, index_col, coerce_float, params, parse_dates, columns, chunksize)\u001B[0m\n\u001B[1;32m    591\u001B[0m         )\n\u001B[1;32m    592\u001B[0m     \u001B[0;32melse\u001B[0m\u001B[0;34m:\u001B[0m\u001B[0;34m\u001B[0m\u001B[0;34m\u001B[0m\u001B[0m\n\u001B[0;32m--> 593\u001B[0;31m         return pandas_sql.read_query(\n\u001B[0m\u001B[1;32m    594\u001B[0m             \u001B[0msql\u001B[0m\u001B[0;34m,\u001B[0m\u001B[0;34m\u001B[0m\u001B[0;34m\u001B[0m\u001B[0m\n\u001B[1;32m    595\u001B[0m             \u001B[0mindex_col\u001B[0m\u001B[0;34m=\u001B[0m\u001B[0mindex_col\u001B[0m\u001B[0;34m,\u001B[0m\u001B[0;34m\u001B[0m\u001B[0;34m\u001B[0m\u001B[0m\n",
      "\u001B[0;32m~/miniconda3/envs/zjfenv/lib/python3.10/site-packages/pandas/io/sql.py\u001B[0m in \u001B[0;36mread_query\u001B[0;34m(self, sql, index_col, coerce_float, parse_dates, params, chunksize, dtype)\u001B[0m\n\u001B[1;32m   1572\u001B[0m             )\n\u001B[1;32m   1573\u001B[0m         \u001B[0;32melse\u001B[0m\u001B[0;34m:\u001B[0m\u001B[0;34m\u001B[0m\u001B[0;34m\u001B[0m\u001B[0m\n\u001B[0;32m-> 1574\u001B[0;31m             \u001B[0mdata\u001B[0m \u001B[0;34m=\u001B[0m \u001B[0mresult\u001B[0m\u001B[0;34m.\u001B[0m\u001B[0mfetchall\u001B[0m\u001B[0;34m(\u001B[0m\u001B[0;34m)\u001B[0m\u001B[0;34m\u001B[0m\u001B[0;34m\u001B[0m\u001B[0m\n\u001B[0m\u001B[1;32m   1575\u001B[0m             frame = _wrap_result(\n\u001B[1;32m   1576\u001B[0m                 \u001B[0mdata\u001B[0m\u001B[0;34m,\u001B[0m\u001B[0;34m\u001B[0m\u001B[0;34m\u001B[0m\u001B[0m\n",
      "\u001B[0;32m~/miniconda3/envs/zjfenv/lib/python3.10/site-packages/sqlalchemy/engine/result.py\u001B[0m in \u001B[0;36mfetchall\u001B[0;34m(self)\u001B[0m\n\u001B[1;32m   1022\u001B[0m         \u001B[0;34m\"\"\"A synonym for the :meth:`_engine.Result.all` method.\"\"\"\u001B[0m\u001B[0;34m\u001B[0m\u001B[0;34m\u001B[0m\u001B[0m\n\u001B[1;32m   1023\u001B[0m \u001B[0;34m\u001B[0m\u001B[0m\n\u001B[0;32m-> 1024\u001B[0;31m         \u001B[0;32mreturn\u001B[0m \u001B[0mself\u001B[0m\u001B[0;34m.\u001B[0m\u001B[0m_allrows\u001B[0m\u001B[0;34m(\u001B[0m\u001B[0;34m)\u001B[0m\u001B[0;34m\u001B[0m\u001B[0;34m\u001B[0m\u001B[0m\n\u001B[0m\u001B[1;32m   1025\u001B[0m \u001B[0;34m\u001B[0m\u001B[0m\n\u001B[1;32m   1026\u001B[0m     \u001B[0;32mdef\u001B[0m \u001B[0mfetchone\u001B[0m\u001B[0;34m(\u001B[0m\u001B[0mself\u001B[0m\u001B[0;34m)\u001B[0m\u001B[0;34m:\u001B[0m\u001B[0;34m\u001B[0m\u001B[0;34m\u001B[0m\u001B[0m\n",
      "\u001B[0;32m~/miniconda3/envs/zjfenv/lib/python3.10/site-packages/sqlalchemy/engine/result.py\u001B[0m in \u001B[0;36m_allrows\u001B[0;34m(self)\u001B[0m\n\u001B[1;32m    399\u001B[0m         \u001B[0mmake_row\u001B[0m \u001B[0;34m=\u001B[0m \u001B[0mself\u001B[0m\u001B[0;34m.\u001B[0m\u001B[0m_row_getter\u001B[0m\u001B[0;34m\u001B[0m\u001B[0;34m\u001B[0m\u001B[0m\n\u001B[1;32m    400\u001B[0m \u001B[0;34m\u001B[0m\u001B[0m\n\u001B[0;32m--> 401\u001B[0;31m         \u001B[0mrows\u001B[0m \u001B[0;34m=\u001B[0m \u001B[0mself\u001B[0m\u001B[0;34m.\u001B[0m\u001B[0m_fetchall_impl\u001B[0m\u001B[0;34m(\u001B[0m\u001B[0;34m)\u001B[0m\u001B[0;34m\u001B[0m\u001B[0;34m\u001B[0m\u001B[0m\n\u001B[0m\u001B[1;32m    402\u001B[0m         \u001B[0;32mif\u001B[0m \u001B[0mmake_row\u001B[0m\u001B[0;34m:\u001B[0m\u001B[0;34m\u001B[0m\u001B[0;34m\u001B[0m\u001B[0m\n\u001B[1;32m    403\u001B[0m             \u001B[0mmade_rows\u001B[0m \u001B[0;34m=\u001B[0m \u001B[0;34m[\u001B[0m\u001B[0mmake_row\u001B[0m\u001B[0;34m(\u001B[0m\u001B[0mrow\u001B[0m\u001B[0;34m)\u001B[0m \u001B[0;32mfor\u001B[0m \u001B[0mrow\u001B[0m \u001B[0;32min\u001B[0m \u001B[0mrows\u001B[0m\u001B[0;34m]\u001B[0m\u001B[0;34m\u001B[0m\u001B[0;34m\u001B[0m\u001B[0m\n",
      "\u001B[0;32m~/miniconda3/envs/zjfenv/lib/python3.10/site-packages/sqlalchemy/engine/cursor.py\u001B[0m in \u001B[0;36m_fetchall_impl\u001B[0;34m(self)\u001B[0m\n\u001B[1;32m   1802\u001B[0m \u001B[0;34m\u001B[0m\u001B[0m\n\u001B[1;32m   1803\u001B[0m     \u001B[0;32mdef\u001B[0m \u001B[0m_fetchall_impl\u001B[0m\u001B[0;34m(\u001B[0m\u001B[0mself\u001B[0m\u001B[0;34m)\u001B[0m\u001B[0;34m:\u001B[0m\u001B[0;34m\u001B[0m\u001B[0;34m\u001B[0m\u001B[0m\n\u001B[0;32m-> 1804\u001B[0;31m         \u001B[0;32mreturn\u001B[0m \u001B[0mself\u001B[0m\u001B[0;34m.\u001B[0m\u001B[0mcursor_strategy\u001B[0m\u001B[0;34m.\u001B[0m\u001B[0mfetchall\u001B[0m\u001B[0;34m(\u001B[0m\u001B[0mself\u001B[0m\u001B[0;34m,\u001B[0m \u001B[0mself\u001B[0m\u001B[0;34m.\u001B[0m\u001B[0mcursor\u001B[0m\u001B[0;34m)\u001B[0m\u001B[0;34m\u001B[0m\u001B[0;34m\u001B[0m\u001B[0m\n\u001B[0m\u001B[1;32m   1805\u001B[0m \u001B[0;34m\u001B[0m\u001B[0m\n\u001B[1;32m   1806\u001B[0m     \u001B[0;32mdef\u001B[0m \u001B[0m_fetchmany_impl\u001B[0m\u001B[0;34m(\u001B[0m\u001B[0mself\u001B[0m\u001B[0;34m,\u001B[0m \u001B[0msize\u001B[0m\u001B[0;34m=\u001B[0m\u001B[0;32mNone\u001B[0m\u001B[0;34m)\u001B[0m\u001B[0;34m:\u001B[0m\u001B[0;34m\u001B[0m\u001B[0;34m\u001B[0m\u001B[0m\n",
      "\u001B[0;32m~/miniconda3/envs/zjfenv/lib/python3.10/site-packages/sqlalchemy/engine/cursor.py\u001B[0m in \u001B[0;36mfetchall\u001B[0;34m(self, result, dbapi_cursor)\u001B[0m\n\u001B[1;32m    979\u001B[0m             \u001B[0;32mreturn\u001B[0m \u001B[0mrows\u001B[0m\u001B[0;34m\u001B[0m\u001B[0;34m\u001B[0m\u001B[0m\n\u001B[1;32m    980\u001B[0m         \u001B[0;32mexcept\u001B[0m \u001B[0mBaseException\u001B[0m \u001B[0;32mas\u001B[0m \u001B[0me\u001B[0m\u001B[0;34m:\u001B[0m\u001B[0;34m\u001B[0m\u001B[0;34m\u001B[0m\u001B[0m\n\u001B[0;32m--> 981\u001B[0;31m             \u001B[0mself\u001B[0m\u001B[0;34m.\u001B[0m\u001B[0mhandle_exception\u001B[0m\u001B[0;34m(\u001B[0m\u001B[0mresult\u001B[0m\u001B[0;34m,\u001B[0m \u001B[0mdbapi_cursor\u001B[0m\u001B[0;34m,\u001B[0m \u001B[0me\u001B[0m\u001B[0;34m)\u001B[0m\u001B[0;34m\u001B[0m\u001B[0;34m\u001B[0m\u001B[0m\n\u001B[0m\u001B[1;32m    982\u001B[0m \u001B[0;34m\u001B[0m\u001B[0m\n\u001B[1;32m    983\u001B[0m \u001B[0;34m\u001B[0m\u001B[0m\n",
      "\u001B[0;32m~/miniconda3/envs/zjfenv/lib/python3.10/site-packages/sqlalchemy/engine/cursor.py\u001B[0m in \u001B[0;36mhandle_exception\u001B[0;34m(self, result, dbapi_cursor, err)\u001B[0m\n\u001B[1;32m    939\u001B[0m \u001B[0;34m\u001B[0m\u001B[0m\n\u001B[1;32m    940\u001B[0m     \u001B[0;32mdef\u001B[0m \u001B[0mhandle_exception\u001B[0m\u001B[0;34m(\u001B[0m\u001B[0mself\u001B[0m\u001B[0;34m,\u001B[0m \u001B[0mresult\u001B[0m\u001B[0;34m,\u001B[0m \u001B[0mdbapi_cursor\u001B[0m\u001B[0;34m,\u001B[0m \u001B[0merr\u001B[0m\u001B[0;34m)\u001B[0m\u001B[0;34m:\u001B[0m\u001B[0;34m\u001B[0m\u001B[0;34m\u001B[0m\u001B[0m\n\u001B[0;32m--> 941\u001B[0;31m         result.connection._handle_dbapi_exception(\n\u001B[0m\u001B[1;32m    942\u001B[0m             \u001B[0merr\u001B[0m\u001B[0;34m,\u001B[0m \u001B[0;32mNone\u001B[0m\u001B[0;34m,\u001B[0m \u001B[0;32mNone\u001B[0m\u001B[0;34m,\u001B[0m \u001B[0mdbapi_cursor\u001B[0m\u001B[0;34m,\u001B[0m \u001B[0mresult\u001B[0m\u001B[0;34m.\u001B[0m\u001B[0mcontext\u001B[0m\u001B[0;34m\u001B[0m\u001B[0;34m\u001B[0m\u001B[0m\n\u001B[1;32m    943\u001B[0m         )\n",
      "\u001B[0;32m~/miniconda3/envs/zjfenv/lib/python3.10/site-packages/sqlalchemy/engine/base.py\u001B[0m in \u001B[0;36m_handle_dbapi_exception\u001B[0;34m(self, e, statement, parameters, cursor, context)\u001B[0m\n\u001B[1;32m   2045\u001B[0m                 )\n\u001B[1;32m   2046\u001B[0m             \u001B[0;32melse\u001B[0m\u001B[0;34m:\u001B[0m\u001B[0;34m\u001B[0m\u001B[0;34m\u001B[0m\u001B[0m\n\u001B[0;32m-> 2047\u001B[0;31m                 \u001B[0mutil\u001B[0m\u001B[0;34m.\u001B[0m\u001B[0mraise_\u001B[0m\u001B[0;34m(\u001B[0m\u001B[0mexc_info\u001B[0m\u001B[0;34m[\u001B[0m\u001B[0;36m1\u001B[0m\u001B[0;34m]\u001B[0m\u001B[0;34m,\u001B[0m \u001B[0mwith_traceback\u001B[0m\u001B[0;34m=\u001B[0m\u001B[0mexc_info\u001B[0m\u001B[0;34m[\u001B[0m\u001B[0;36m2\u001B[0m\u001B[0;34m]\u001B[0m\u001B[0;34m)\u001B[0m\u001B[0;34m\u001B[0m\u001B[0;34m\u001B[0m\u001B[0m\n\u001B[0m\u001B[1;32m   2048\u001B[0m \u001B[0;34m\u001B[0m\u001B[0m\n\u001B[1;32m   2049\u001B[0m         \u001B[0;32mfinally\u001B[0m\u001B[0;34m:\u001B[0m\u001B[0;34m\u001B[0m\u001B[0;34m\u001B[0m\u001B[0m\n",
      "\u001B[0;32m~/miniconda3/envs/zjfenv/lib/python3.10/site-packages/sqlalchemy/util/compat.py\u001B[0m in \u001B[0;36mraise_\u001B[0;34m(***failed resolving arguments***)\u001B[0m\n\u001B[1;32m    206\u001B[0m \u001B[0;34m\u001B[0m\u001B[0m\n\u001B[1;32m    207\u001B[0m         \u001B[0;32mtry\u001B[0m\u001B[0;34m:\u001B[0m\u001B[0;34m\u001B[0m\u001B[0;34m\u001B[0m\u001B[0m\n\u001B[0;32m--> 208\u001B[0;31m             \u001B[0;32mraise\u001B[0m \u001B[0mexception\u001B[0m\u001B[0;34m\u001B[0m\u001B[0;34m\u001B[0m\u001B[0m\n\u001B[0m\u001B[1;32m    209\u001B[0m         \u001B[0;32mfinally\u001B[0m\u001B[0;34m:\u001B[0m\u001B[0;34m\u001B[0m\u001B[0;34m\u001B[0m\u001B[0m\n\u001B[1;32m    210\u001B[0m             \u001B[0;31m# credit to\u001B[0m\u001B[0;34m\u001B[0m\u001B[0;34m\u001B[0m\u001B[0m\n",
      "\u001B[0;32m~/miniconda3/envs/zjfenv/lib/python3.10/site-packages/sqlalchemy/engine/cursor.py\u001B[0m in \u001B[0;36mfetchall\u001B[0;34m(self, result, dbapi_cursor)\u001B[0m\n\u001B[1;32m    975\u001B[0m     \u001B[0;32mdef\u001B[0m \u001B[0mfetchall\u001B[0m\u001B[0;34m(\u001B[0m\u001B[0mself\u001B[0m\u001B[0;34m,\u001B[0m \u001B[0mresult\u001B[0m\u001B[0;34m,\u001B[0m \u001B[0mdbapi_cursor\u001B[0m\u001B[0;34m)\u001B[0m\u001B[0;34m:\u001B[0m\u001B[0;34m\u001B[0m\u001B[0;34m\u001B[0m\u001B[0m\n\u001B[1;32m    976\u001B[0m         \u001B[0;32mtry\u001B[0m\u001B[0;34m:\u001B[0m\u001B[0;34m\u001B[0m\u001B[0;34m\u001B[0m\u001B[0m\n\u001B[0;32m--> 977\u001B[0;31m             \u001B[0mrows\u001B[0m \u001B[0;34m=\u001B[0m \u001B[0mdbapi_cursor\u001B[0m\u001B[0;34m.\u001B[0m\u001B[0mfetchall\u001B[0m\u001B[0;34m(\u001B[0m\u001B[0;34m)\u001B[0m\u001B[0;34m\u001B[0m\u001B[0;34m\u001B[0m\u001B[0m\n\u001B[0m\u001B[1;32m    978\u001B[0m             \u001B[0mresult\u001B[0m\u001B[0;34m.\u001B[0m\u001B[0m_soft_close\u001B[0m\u001B[0;34m(\u001B[0m\u001B[0;34m)\u001B[0m\u001B[0;34m\u001B[0m\u001B[0;34m\u001B[0m\u001B[0m\n\u001B[1;32m    979\u001B[0m             \u001B[0;32mreturn\u001B[0m \u001B[0mrows\u001B[0m\u001B[0;34m\u001B[0m\u001B[0;34m\u001B[0m\u001B[0m\n",
      "\u001B[0;31mKeyboardInterrupt\u001B[0m: "
     ]
    }
   ],
   "source": [
    "prices = tudata.sql_adj_data()['close'].dropna(axis=1)\n",
    "rps = strategy.RPS(prices)\n",
    "df_rps = rps.date_rps()\n",
    "\n",
    "# MM趋势\n",
    "mm_trend=prices.apply(strategy.MM_trend).T\n",
    "mm_result=mm_trend.query('满足条件==1')\n",
    "\n",
    "# mm趋势+120日rps>90\n",
    "mm_rps_result=pd.concat([mm_result,df_rps.query('rps_120>90')],join='inner',axis=1)\n",
    "# mm_rps_result.sort_values('rps_250',ascending=False)[:10]\n",
    "\n",
    "# 资金流\n",
    "code_list=strategy.moneyflow_stock(mm_rps_result.index)\n",
    "print(f'最近1、3、5、10、20、60日主力资金累计净流入均大于0个股数量：{len(code_list)}')\n",
    "\n",
    "# mm趋势+RPS+资金流选股\n",
    "#mm_rps_result.loc[(set(mm_rps_result.index)&set(code_list))]\n",
    "\n",
    "# 每日指标数据\n",
    "trade_daily = tudata.sql_all_data(date='20220801')\n",
    "#单日主力资金净流入\n",
    "c1=trade_daily['主力净流入']>0\n",
    "#量比\n",
    "c2=trade_daily['量比']>1\n",
    "#市盈率\n",
    "c3=(0<trade_daily['市盈率'])&(trade_daily['市盈率']<80)\n",
    "#流通市值大于100亿元\n",
    "c4=trade_daily['流通市值']/10000>100\n",
    "#换手率\n",
    "c5=trade_daily['换手率']>5\n",
    "#还可以结合市净率、股息率等指标进一步选股\n",
    "c=c1&c2&c3&c4&c5\n",
    "#以主力净流入排名，查看前十\n",
    "daily_result=trade_daily[c]\n",
    "daily_cols=['trade_date','主力净流入','换手率','量比','市盈率','市净率','市销率','股息率','流通市值']\n",
    "daily_result=daily_result.set_index('ts_code')[daily_cols]\n",
    "# daily_result.sort_values('主力净流入',ascending=False)[:10]\n",
    "\n",
    "# mm趋势+RPS+资金流选股+每日指标\n",
    "df1=mm_rps_result.loc[code_list][['收盘价','rps_120']]\n",
    "df2=daily_result.copy()\n",
    "pd.concat([df1,df2],join='inner',axis=1)"
   ],
   "metadata": {
    "collapsed": false
   }
  },
  {
   "cell_type": "code",
   "execution_count": 8,
   "outputs": [],
   "source": [],
   "metadata": {
    "collapsed": false
   }
  }
 ],
 "metadata": {
  "kernelspec": {
   "display_name": "Python 3",
   "language": "python",
   "name": "python3"
  },
  "language_info": {
   "codemirror_mode": {
    "name": "ipython",
    "version": 2
   },
   "file_extension": ".py",
   "mimetype": "text/x-python",
   "name": "python",
   "nbconvert_exporter": "python",
   "pygments_lexer": "ipython2",
   "version": "2.7.6"
  }
 },
 "nbformat": 4,
 "nbformat_minor": 0
}
